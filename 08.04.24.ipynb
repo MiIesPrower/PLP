{
 "cells": [
  {
   "cell_type": "markdown",
   "metadata": {},
   "source": [
    "### First steps in Python"
   ]
  },
  {
   "cell_type": "markdown",
   "metadata": {},
   "source": [
    "### List"
   ]
  },
  {
   "cell_type": "code",
   "execution_count": 1,
   "metadata": {},
   "outputs": [],
   "source": [
    "# create a list\n",
    "ls = []\n",
    "ls.append(7)\n",
    "ls.append(10)\n",
    "ls.append(22)"
   ]
  },
  {
   "cell_type": "code",
   "execution_count": 2,
   "metadata": {},
   "outputs": [
    {
     "data": {
      "text/plain": [
       "[7, 10, 22]"
      ]
     },
     "execution_count": 2,
     "metadata": {},
     "output_type": "execute_result"
    }
   ],
   "source": [
    "ls"
   ]
  },
  {
   "cell_type": "code",
   "execution_count": 3,
   "metadata": {},
   "outputs": [
    {
     "data": {
      "text/plain": [
       "[7, 10, 22, 6, 43, 'something funny']"
      ]
     },
     "execution_count": 3,
     "metadata": {},
     "output_type": "execute_result"
    }
   ],
   "source": [
    "# alternative way\n",
    "ls_2 = [7,10,22,6,43,\"something funny\"]\n",
    "ls_2"
   ]
  },
  {
   "cell_type": "code",
   "execution_count": 4,
   "metadata": {},
   "outputs": [
    {
     "data": {
      "text/plain": [
       "list"
      ]
     },
     "execution_count": 4,
     "metadata": {},
     "output_type": "execute_result"
    }
   ],
   "source": [
    "type(ls_2)"
   ]
  },
  {
   "cell_type": "code",
   "execution_count": 6,
   "metadata": {},
   "outputs": [
    {
     "data": {
      "text/plain": [
       "[7, 10, 22, 6]"
      ]
     },
     "execution_count": 6,
     "metadata": {},
     "output_type": "execute_result"
    }
   ],
   "source": [
    "#access elements of lists\n",
    "ls_2[0:4] # --> 0 stands for first entry/index"
   ]
  },
  {
   "cell_type": "code",
   "execution_count": 7,
   "metadata": {},
   "outputs": [
    {
     "data": {
      "text/plain": [
       "[[7, 10, 22], [7, 10, 22, 6, 43, 'something funny']]"
      ]
     },
     "execution_count": 7,
     "metadata": {},
     "output_type": "execute_result"
    }
   ],
   "source": [
    "# iteration of lists\n",
    "ls_3 = [ls, ls_2]\n",
    "ls_3"
   ]
  },
  {
   "cell_type": "code",
   "execution_count": 11,
   "metadata": {},
   "outputs": [
    {
     "data": {
      "text/plain": [
       "[7, 10, 22]"
      ]
     },
     "execution_count": 11,
     "metadata": {},
     "output_type": "execute_result"
    }
   ],
   "source": [
    "ls_3[1][0:3]"
   ]
  },
  {
   "cell_type": "markdown",
   "metadata": {},
   "source": [
    "### Dictionary"
   ]
  },
  {
   "cell_type": "code",
   "execution_count": 12,
   "metadata": {},
   "outputs": [
    {
     "data": {
      "text/plain": [
       "{'one': 1, 'two': 2, 'three': 'drei'}"
      ]
     },
     "execution_count": 12,
     "metadata": {},
     "output_type": "execute_result"
    }
   ],
   "source": [
    "# define dictionary\n",
    "dct = {\"one\" : 1, \"two\" : 2, \"three\" : \"drei\"}\n",
    "dct"
   ]
  },
  {
   "cell_type": "code",
   "execution_count": 13,
   "metadata": {},
   "outputs": [
    {
     "data": {
      "text/plain": [
       "dict"
      ]
     },
     "execution_count": 13,
     "metadata": {},
     "output_type": "execute_result"
    }
   ],
   "source": [
    "type(dct)"
   ]
  },
  {
   "cell_type": "code",
   "execution_count": 16,
   "metadata": {},
   "outputs": [
    {
     "name": "stdout",
     "output_type": "stream",
     "text": [
      "dict_keys(['one', 'two', 'three'])\n",
      "dict_values([1, 2, 'drei'])\n"
     ]
    }
   ],
   "source": [
    "# check key-value pairs\n",
    "print(dct.keys())\n",
    "print(dct.values())"
   ]
  },
  {
   "cell_type": "code",
   "execution_count": 18,
   "metadata": {},
   "outputs": [
    {
     "name": "stdout",
     "output_type": "stream",
     "text": [
      "1\n",
      "2\n",
      "drei\n"
     ]
    }
   ],
   "source": [
    "print(dct[\"one\"])\n",
    "print(dct[\"two\"])\n",
    "print(dct[\"three\"])"
   ]
  },
  {
   "cell_type": "markdown",
   "metadata": {},
   "source": [
    "### If-else"
   ]
  },
  {
   "cell_type": "code",
   "execution_count": 24,
   "metadata": {},
   "outputs": [
    {
     "data": {
      "text/plain": [
       "'drei'"
      ]
     },
     "execution_count": 24,
     "metadata": {},
     "output_type": "execute_result"
    }
   ],
   "source": [
    "var = dct[\"three\"]\n",
    "var"
   ]
  },
  {
   "cell_type": "code",
   "execution_count": 26,
   "metadata": {},
   "outputs": [
    {
     "name": "stdout",
     "output_type": "stream",
     "text": [
      "Strike_drei\n"
     ]
    }
   ],
   "source": [
    "if(var == 1):\n",
    "    print(\"Strike_1\")\n",
    "elif(var == 2):\n",
    "    print(\"Strike_2\")\n",
    "else:\n",
    "    print(\"Strike_drei\")"
   ]
  },
  {
   "cell_type": "code",
   "execution_count": 29,
   "metadata": {},
   "outputs": [
    {
     "data": {
      "text/plain": [
       "'Other then 1'"
      ]
     },
     "execution_count": 29,
     "metadata": {},
     "output_type": "execute_result"
    }
   ],
   "source": [
    "# conditional\n",
    "output_val = (\"Strike_1\" if var == 1 else \"Other then 1\")\n",
    "output_val"
   ]
  },
  {
   "cell_type": "markdown",
   "metadata": {},
   "source": [
    "## For loops"
   ]
  },
  {
   "cell_type": "code",
   "execution_count": 33,
   "metadata": {},
   "outputs": [
    {
     "name": "stdout",
     "output_type": "stream",
     "text": [
      "one: 1\n",
      "two: 2\n",
      "three: drei\n"
     ]
    }
   ],
   "source": [
    "for schluessel in dct.keys():\n",
    "    string = schluessel + \": \" + str(dct[schluessel])\n",
    "    #print(type(dct[schluessel]))\n",
    "    print(string)"
   ]
  },
  {
   "cell_type": "markdown",
   "metadata": {},
   "source": [
    "### Function"
   ]
  },
  {
   "cell_type": "code",
   "execution_count": 35,
   "metadata": {},
   "outputs": [],
   "source": [
    "# define custom function\n",
    "def display_dct(d): \n",
    "    for schluessel in d.keys():\n",
    "        string = schluessel + \": \" + str(dct[schluessel])\n",
    "        #print(type(dct[schluessel]))\n",
    "        print(string)"
   ]
  },
  {
   "cell_type": "code",
   "execution_count": 36,
   "metadata": {},
   "outputs": [
    {
     "name": "stdout",
     "output_type": "stream",
     "text": [
      "one: 1\n",
      "two: 2\n",
      "three: drei\n"
     ]
    }
   ],
   "source": [
    "# use custom function\n",
    "display_dct(dct)"
   ]
  },
  {
   "cell_type": "code",
   "execution_count": 37,
   "metadata": {},
   "outputs": [
    {
     "data": {
      "text/plain": [
       "{'one': 1, 'two': 2, 'three': 'drei'}"
      ]
     },
     "execution_count": 37,
     "metadata": {},
     "output_type": "execute_result"
    }
   ],
   "source": [
    "dct"
   ]
  },
  {
   "cell_type": "markdown",
   "metadata": {},
   "source": [
    "### Read and write files"
   ]
  },
  {
   "cell_type": "code",
   "execution_count": 38,
   "metadata": {},
   "outputs": [],
   "source": [
    "# import lib\n",
    "import os # os = Operating System "
   ]
  },
  {
   "cell_type": "code",
   "execution_count": 40,
   "metadata": {},
   "outputs": [
    {
     "name": "stdout",
     "output_type": "stream",
     "text": [
      "Rank,Title,Artist,last_week,peak,wks_on_chart\n",
      "\n",
      "1,\"Yes, And?\",Ariana Grande,-,1,1\n",
      "\n",
      "2,Lovin On Me,Jack Harlow,1,1,10\n",
      "\n",
      "3,Cruel Summer,Taylor Swift,2,1,37\n",
      "\n",
      "4,Greedy,Tate McRae,3,3,18\n",
      "\n",
      "5,Redrum,21 Savage,-,5,1\n",
      "\n",
      "6,I Remember Everything,Zach Bryan Featuring Kacey Musgraves,4,1,21\n",
      "\n",
      "7,Paint The Town Red,Doja Cat,5,1,24\n",
      "\n",
      "8,Lose Control,Teddy Swims,8,8,23\n",
      "\n",
      "9,Snooze,SZA,6,2,57\n",
      "\n",
      "10,Nee-nah,\"21 Savage, Travis Scott & Metro Boomin\",-,10,1\n",
      "\n",
      "11,Agora Hills,Doja Cat,9,9,17\n",
      "\n",
      "12,Water,Tyla,7,7,16\n",
      "\n",
      "13,Last Night,Morgan Wallen,10,1,51\n",
      "\n",
      "14,Thinkin' Bout Me,Morgan Wallen,12,7,46\n",
      "\n",
      "15,Fast Car,Luke Combs,11,2,43\n",
      "\n",
      "16,Stick Season,Noah Kahan,14,14,16\n",
      "\n",
      "17,Is It Over Now? (Taylor's Version) [From The Vault],Taylor Swift,13,1,12\n",
      "\n",
      "18,All Of Me,21 Savage,-,18,1\n",
      "\n",
      "19,N.H.I.E.,21 Savage & Doja Cat,-,19,1\n",
      "\n",
      "20,What Was I Made For?,Billie Eilish,16,14,26\n",
      "\n",
      "21,White Horse,Chris Stapleton,17,12,26\n",
      "\n",
      "22,Rich Baby Daddy,Drake Featuring Sexyy Red & SZA,18,11,15\n",
      "\n",
      "23,Igual Que Un Angel,Kali Uchis & Peso Pluma,-,23,1\n",
      "\n",
      "24,La Diabla,Xavi,22,22,5\n",
      "\n",
      "25,FTCU,Nicki Minaj,15,15,6\n",
      "\n",
      "26,Lil Boo Thang,Paul Russell,19,14,18\n",
      "\n",
      "27,Flowers,Miley Cyrus,20,1,48\n",
      "\n",
      "28,Everybody,Nicki Minaj Featuring Lil Uzi Vert,25,25,6\n",
      "\n",
      "29,Houdini,Dua Lipa,29,11,10\n",
      "\n",
      "30,World On Fire,Nate Smith,21,21,12\n",
      "\n",
      "31,Pop Ur Sht,\"21 Savage, Young Thug & Metro Boomin\",-,31,1\n",
      "\n",
      "32,Fukumean,Gunna,24,4,29\n",
      "\n",
      "33,Sneaky,21 Savage,-,33,1\n",
      "\n",
      "34,Need A Favor,Jelly Roll,23,13,40\n",
      "\n",
      "35,Dangerous,\"21 Savage, Lil Durk & Metro Boomin\",-,35,1\n",
      "\n",
      "36,Pretty Little Poison,Warren Zeiders,30,30,19\n",
      "\n",
      "37,Never Lose Me,Flo Milli,42,37,5\n",
      "\n",
      "38,First Person Shooter,Drake Featuring J. Cole,26,1,15\n",
      "\n",
      "39,Dance The Night,Dua Lipa,32,6,29\n",
      "\n",
      "40,Should've Wore A Bonnet,21 Savage & Brent Faiyaz,-,40,1\n",
      "\n",
      "41,Save Me,Jelly Roll With Lainey Wilson,28,19,28\n",
      "\n",
      "42,Vampire,Olivia Rodrigo,27,1,26\n",
      "\n",
      "43,Prove It,21 Savage & Summer Walker,-,43,1\n",
      "\n",
      "44,Wild Ones,Jessie Murph & Jelly Roll,41,41,15\n",
      "\n",
      "45,Used To Be Young,Miley Cyrus,31,8,21\n",
      "\n",
      "46,My Love Mine All Mine,Mitski,35,26,17\n",
      "\n",
      "47,Exes,Tate McRae,36,34,9\n",
      "\n",
      "48,Good Good,\"Usher, Summer Walker & 21 Savage\",34,25,23\n",
      "\n",
      "49,Truck Bed,HARDY,39,36,31\n",
      "\n",
      "50,Surround Sound,JID Featuring 21 Savage & Baby Tate,40,40,10\n",
      "\n",
      "51,On My Mama,Victoria Monet,38,35,18\n",
      "\n",
      "52,Where The Wild Things Are,Luke Combs,48,48,9\n",
      "\n",
      "53,Feather,Sabrina Carpenter,46,46,7\n",
      "\n",
      "54,Strangers,Kenya Grace,44,42,18\n",
      "\n",
      "55,La Victima,Xavi,55,55,5\n",
      "\n",
      "56,The Painter,Cody Johnson,43,43,15\n",
      "\n",
      "57,Red Sky,\"21 Savage, Tommy Newport & Mikky Ekko\",-,57,1\n",
      "\n",
      "58,Murder On The Dancefloor,Sophie Ellis-Bextor,58,58,3\n",
      "\n",
      "59,Letter To My Brudda,21 Savage,-,59,1\n",
      "\n",
      "60,Burn It Down,Parker McCollum,52,52,13\n",
      "\n",
      "61,Get Him Back!,Olivia Rodrigo,50,11,19\n",
      "\n",
      "62,Bellakeo,Peso Pluma & Anitta,54,54,5\n",
      "\n",
      "63,You Broke My Heart,Drake,47,11,9\n",
      "\n",
      "64,Monaco,Bad Bunny,49,5,14\n",
      "\n",
      "65,Harley Quinn,Fuerza Regida & Marshmello,53,40,11\n",
      "\n",
      "66,See The Real,21 Savage,-,66,1\n",
      "\n",
      "67,Just Like Me,\"21 Savage, Burna Boy & Metro Boomin\",-,67,1\n",
      "\n",
      "68,IDGAF,Drake Featuring Yeat,51,2,15\n",
      "\n",
      "69,J Christ,Lil Nas X,-,69,1\n",
      "\n",
      "70,Dark Days,21 Savage & Mariah The Scientist,-,70,1\n",
      "\n",
      "71,500lbs,Lil Tecca,56,51,17\n",
      "\n",
      "72,Different 'Round Here,Riley Green Featuring Luke Combs,60,60,7\n",
      "\n",
      "73,One Of The Girls,\"The Weeknd, Jennie & Lily Rose Depp\",61,61,4\n",
      "\n",
      "74,Man Made A Bar,Morgan Wallen Featuring Eric Church,62,15,17\n",
      "\n",
      "75,Soak City,310babii,66,66,5\n",
      "\n",
      "76,Act II: Date @ 8,4Batz,77,76,2\n",
      "\n",
      "77,I Can Feel It,Kane Brown,59,59,3\n",
      "\n",
      "78,Save Me The Trouble,Dan + Shay,45,38,12\n",
      "\n",
      "79,23,Chayce Beckham,64,64,3\n",
      "\n",
      "80,Mmhmm,BigXthaPlug,65,65,4\n",
      "\n",
      "81,We Don't Fight Anymore,Carly Pearce Featuring Chris Stapleton,67,67,5\n",
      "\n",
      "82,El Amor de Su Vida,Grupo Frontera & Grupo Firme,70,67,19\n",
      "\n",
      "83,Que Onda,Calle 24 x Chino Pacas x Fuerza Regida,69,61,16\n",
      "\n",
      "84,Wondering Why,The Red Clay Strays,71,71,4\n",
      "\n",
      "85,Can't Catch Me Now,Olivia Rodrigo,63,56,11\n",
      "\n",
      "86,FE!N,Travis Scott Featuring Playboi Carti,74,5,12\n",
      "\n",
      "87,Standing Next To You,Jung Kook,76,5,11\n",
      "\n",
      "88,02.02.99,That Mexican OT,-,88,1\n",
      "\n",
      "89,Oklahoma Smokeshow,Zach Bryan,72,72,13\n",
      "\n",
      "90,Y Lloro,Junior H,79,79,4\n",
      "\n",
      "91,Perro Negro,Bad Bunny & Feid,75,20,11\n",
      "\n",
      "92,Segun Quien,Maluma & Carin Leon,68,65,16\n",
      "\n",
      "93,Made For Me,Muni Long,-,93,1\n",
      "\n",
      "94,Rich Men North Of Richmond,Oliver Anthony Music,81,1,20\n",
      "\n",
      "95,Northern Attitude,Noah Kahan With Hozier,80,37,7\n",
      "\n",
      "96,Mamaw's House,Thomas Rhett Featuring Morgan Wallen,88,55,3\n",
      "\n",
      "97,My Eyes,Travis Scott,82,19,7\n",
      "\n",
      "98,Virginia Beach,Drake,78,3,13\n",
      "\n",
      "99,Coal,Dylan Gossett,89,89,2\n",
      "\n",
      "100,Great Gatsby,Rod Wave,83,30,17\n",
      "\n"
     ]
    }
   ],
   "source": [
    "file = open(\"C:/Users/danuk/Downloads/billboard_scraped_content_xpath.csv\")\n",
    "for line in file:\n",
    "    print(line)"
   ]
  }
 ],
 "metadata": {
  "kernelspec": {
   "display_name": "Python 3",
   "language": "python",
   "name": "python3"
  },
  "language_info": {
   "codemirror_mode": {
    "name": "ipython",
    "version": 3
   },
   "file_extension": ".py",
   "mimetype": "text/x-python",
   "name": "python",
   "nbconvert_exporter": "python",
   "pygments_lexer": "ipython3",
   "version": "3.12.2"
  }
 },
 "nbformat": 4,
 "nbformat_minor": 2
}
