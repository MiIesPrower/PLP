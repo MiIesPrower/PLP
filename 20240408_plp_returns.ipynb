{
 "cells": [
  {
   "cell_type": "code",
   "execution_count": 1,
   "id": "c3e1fc94",
   "metadata": {},
   "outputs": [],
   "source": [
    "import yfinance as yf\n",
    "import numpy as np"
   ]
  },
  {
   "cell_type": "markdown",
   "id": "b90872b8",
   "metadata": {},
   "source": [
    "### Load stock prices"
   ]
  },
  {
   "cell_type": "code",
   "execution_count": null,
   "id": "ac9342f6",
   "metadata": {},
   "outputs": [],
   "source": [
    "# magnificent seven: Apple, Microsoft, Google, Amazon, Nvidia, Meta, Tesla + some epsilons: BMW\n",
    "tickers = ['AAPL','MSFT','GOOG','AMZN', 'NVDA', 'META', 'TSLA', 'SAP.DE']\n",
    "\n",
    "# get prices fro Yahoo Finance\n",
    "data = yf.download(tickers, start=\"2019-12-31\", end=\"2024-04-12\")"
   ]
  },
  {
   "cell_type": "code",
   "execution_count": null,
   "id": "3aa3b76c",
   "metadata": {},
   "outputs": [],
   "source": [
    "# check \n",
    "data.head(10)"
   ]
  },
  {
   "cell_type": "code",
   "execution_count": null,
   "id": "90810c2c",
   "metadata": {},
   "outputs": [],
   "source": [
    "# check \n",
    "data.tail(10)"
   ]
  },
  {
   "cell_type": "code",
   "execution_count": null,
   "id": "2a6f95ee",
   "metadata": {},
   "outputs": [],
   "source": [
    "# check\n",
    "type(data)\n",
    "print(data.shape)"
   ]
  },
  {
   "cell_type": "code",
   "execution_count": null,
   "id": "267518e1",
   "metadata": {},
   "outputs": [],
   "source": [
    "# check index\n",
    "data.index"
   ]
  },
  {
   "cell_type": "markdown",
   "id": "5607e409",
   "metadata": {},
   "source": [
    "### Concentrate on Adjusted closing prices"
   ]
  },
  {
   "cell_type": "code",
   "execution_count": null,
   "id": "e8843893",
   "metadata": {},
   "outputs": [],
   "source": [
    "# choose adj. closing prices\n",
    "data_adj_close = data['Adj Close']\n",
    "data_adj_close"
   ]
  },
  {
   "cell_type": "code",
   "execution_count": null,
   "id": "0fc0cd7f",
   "metadata": {},
   "outputs": [],
   "source": [
    "# plot\n",
    "data_adj_close.plot(figsize=(15,10))"
   ]
  },
  {
   "cell_type": "code",
   "execution_count": null,
   "id": "ddd09cf5",
   "metadata": {},
   "outputs": [],
   "source": [
    "# plot\n",
    "data_adj_close[['TSLA','META']].plot(figsize=(15,10))"
   ]
  },
  {
   "cell_type": "markdown",
   "id": "15c08c3d",
   "metadata": {},
   "source": [
    "### Study returns"
   ]
  },
  {
   "cell_type": "code",
   "execution_count": null,
   "id": "c4e330a0",
   "metadata": {},
   "outputs": [],
   "source": [
    "# standard returns\n",
    "returns = data_adj_close['TSLA'].pct_change()\n",
    "returns.plot(figsize=(12,5))"
   ]
  },
  {
   "cell_type": "code",
   "execution_count": null,
   "id": "06e6f04c",
   "metadata": {},
   "outputs": [],
   "source": [
    "# check histogram\n",
    "returns.plot.hist(bins = 30, figsize=(12,7))"
   ]
  },
  {
   "cell_type": "code",
   "execution_count": null,
   "id": "b29acf35",
   "metadata": {},
   "outputs": [],
   "source": [
    "# log returns\n",
    "log_returns = np.log(1 + returns)\n",
    "log_returns.plot(figsize=(12,5))"
   ]
  },
  {
   "cell_type": "code",
   "execution_count": null,
   "id": "050aa7df",
   "metadata": {},
   "outputs": [],
   "source": [
    "# check histogram\n",
    "log_returns.plot.hist(bins = 30, figsize=(12,7))"
   ]
  },
  {
   "cell_type": "markdown",
   "id": "2d1ef053",
   "metadata": {},
   "source": [
    "### Concentrate on losses"
   ]
  },
  {
   "cell_type": "code",
   "execution_count": null,
   "id": "30d56448",
   "metadata": {},
   "outputs": [],
   "source": [
    "losses = -log_returns[log_returns<0]\n",
    "losses"
   ]
  },
  {
   "cell_type": "code",
   "execution_count": null,
   "id": "ccf58744",
   "metadata": {},
   "outputs": [],
   "source": [
    "# check histogram\n",
    "losses.plot.hist(bins = 20, figsize=(12,7))"
   ]
  },
  {
   "cell_type": "markdown",
   "id": "0239df8c",
   "metadata": {},
   "source": [
    "#### Calculate EL, VaR and UL"
   ]
  },
  {
   "cell_type": "code",
   "execution_count": null,
   "id": "06149226",
   "metadata": {},
   "outputs": [],
   "source": [
    "import numpy as np"
   ]
  },
  {
   "cell_type": "code",
   "execution_count": null,
   "id": "d629c541",
   "metadata": {},
   "outputs": [],
   "source": [
    "# calc EL\n",
    "EL = np.mean(losses)\n",
    "EL"
   ]
  },
  {
   "cell_type": "code",
   "execution_count": null,
   "id": "a86887ba",
   "metadata": {},
   "outputs": [],
   "source": [
    "# calc VaR\n",
    "alpha = 0.05\n",
    "one_min_alpha = 1-alpha \n",
    "\n",
    "VaR = np.quantile(losses, q=one_min_alpha)\n",
    "VaR"
   ]
  },
  {
   "cell_type": "code",
   "execution_count": null,
   "id": "e3f1ea16",
   "metadata": {},
   "outputs": [],
   "source": [
    "# calc UL\n",
    "UL = VaR - EL\n",
    "UL"
   ]
  },
  {
   "cell_type": "code",
   "execution_count": null,
   "id": "9d326ac8",
   "metadata": {},
   "outputs": [],
   "source": []
  },
  {
   "cell_type": "code",
   "execution_count": null,
   "id": "4b984520-454e-471e-b499-c290165ea635",
   "metadata": {},
   "outputs": [],
   "source": []
  }
 ],
 "metadata": {
  "kernelspec": {
   "display_name": "Python 3 (ipykernel)",
   "language": "python",
   "name": "python3"
  },
  "language_info": {
   "codemirror_mode": {
    "name": "ipython",
    "version": 3
   },
   "file_extension": ".py",
   "mimetype": "text/x-python",
   "name": "python",
   "nbconvert_exporter": "python",
   "pygments_lexer": "ipython3",
   "version": "3.12.2"
  }
 },
 "nbformat": 4,
 "nbformat_minor": 5
}
