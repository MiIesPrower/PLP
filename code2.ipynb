{
<<<<<<< HEAD
 "cells": [],
=======
 "cells": [
  {
   "cell_type": "code",
   "execution_count": null,
   "metadata": {},
   "outputs": [],
   "source": [
    "import random\n",
    "import numpy as np\n",
    "import math\n",
    "from scipy.stats import norm\n",
    "\n",
    "random.seed(10)\n",
    "\n",
    "rho = 0.2\n",
    "\n",
    "num_simulations = 1000\n",
    "\n",
    "subceed = 0\n",
    "\n",
    "PD = [random.uniform(0, 0.3) for _ in range(100)]\n",
    "\n",
    "for _ in range(num_simulations):\n",
    "    Y = random.uniform(-1, 1)\n",
    "    Z = [random.uniform(-1, 1) for _ in range(100)]\n",
    "    X = [Y * math.sqrt(rho**2) + z * math.sqrt((1 - rho)**2) for z in Z]\n",
    "    thresholds = [norm.ppf(pd) for pd in PD]\n",
    "    \n",
    "    for x, c in zip(X, thresholds):\n",
    "        if x < c:\n",
    "            subceed += 1\n",
    "\n",
    "print(f'Number of times X subceeded the thresholds: {subceed}')\n",
    "\n",
    "# Portfolio loss distribution\n",
    "# plt.hist(losses, bins=50, density=True, alpha=0.75, color='blue')\n",
    "# plt.title('Portfolio Loss Distribution')\n",
    "# plt.xlabel('Loss')\n",
    "# plt.ylabel('Frequency')\n",
    "# plt.show()\n",
    "\n",
    "# Expected Loss (EL)\n",
    "EL = np.mean(subceed)\n",
    "print(f\"Expected Loss (EL): {EL:.2f}\")\n",
    "\n",
    "# Unexpected Loss (UL) - Standard Deviation of Losses\n",
    "UL = np.std(subceed)\n",
    "print(f\"Unexpected Loss (UL): {UL:.2f}\")\n",
    "\n",
    "# Value-at-Risk (VaR) at 99% confidence level\n",
    "VaR_99 = np.percentile(subceed, 99)\n",
    "print(f\"Value-at-Risk (VaR 99%): {VaR_99:.2f}\")\n",
    "\n",
    "# Value-at-Risk (VaR) at 95% confidence level\n",
    "VaR_95 = np.percentile(subceed, 95)\n",
    "print(f\"Value-at-Risk (VaR 95%): {VaR_95:.2f}\")"
   ]
  }
 ],
>>>>>>> 20950d9bf4e9e234cd06e64d510a16805bd781f0
 "metadata": {
  "kernelspec": {
   "display_name": "Python 3",
   "language": "python",
   "name": "python3"
  },
  "language_info": {
   "codemirror_mode": {
    "name": "ipython",
    "version": 3
   },
   "file_extension": ".py",
   "mimetype": "text/x-python",
   "name": "python",
   "nbconvert_exporter": "python",
   "pygments_lexer": "ipython3",
   "version": "3.12.3"
  }
 },
 "nbformat": 4,
 "nbformat_minor": 2
}
