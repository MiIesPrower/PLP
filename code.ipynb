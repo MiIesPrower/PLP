{
 "cells": [
  {
   "cell_type": "code",
   "execution_count": 21,
   "metadata": {},
   "outputs": [
    {
     "name": "stdout",
     "output_type": "stream",
     "text": [
      "Loading Private_PD.csv...\n",
      "Loaded 150 PD values for personal loans.\n",
      "\n"
     ]
    }
   ],
   "source": [
    "## Setup and Load Data\n",
    "# Libraries\n",
    "import numpy as np\n",
    "import pandas as pd\n",
    "import matplotlib.pyplot as plt\n",
    "\n",
    "# Load private loan PD values from CSV\n",
    "print(\"Loading Private_PD.csv...\")\n",
    "private_pd_df = pd.read_csv('Private_PD.csv')\n",
    "private_PD = private_pd_df['PD'].values\n",
    "print(f\"Loaded {len(private_PD)} PD values for personal loans.\\n\")"
   ]
  },
  {
   "cell_type": "code",
   "execution_count": 22,
   "metadata": {},
   "outputs": [
    {
     "name": "stdout",
     "output_type": "stream",
     "text": [
      "Assigned 67 personal loans and 33 business loans.\n",
      "\n"
     ]
    }
   ],
   "source": [
    "## Initialize Parameters and Loan Types\n",
    "# Fixed parameters\n",
    "n_assets = 100 \n",
    "n_simulations = 1000\n",
    "rho = 0.2\n",
    "\n",
    "# Lending amount (total portfolio)\n",
    "total_lending_amount = 50000000\n",
    "\n",
    "# Randomly assigning personal (0) and business (1) loans\n",
    "loan_types = np.random.choice([0, 1], n_assets, p=[0.7, 0.3])  # assuming 70% personal and 30% business\n",
    "print(f\"Assigned {np.sum(loan_types == 0)} personal loans and {np.sum(loan_types == 1)} business loans.\\n\")"
   ]
  },
  {
   "cell_type": "code",
   "execution_count": 23,
   "metadata": {},
   "outputs": [
    {
     "name": "stdout",
     "output_type": "stream",
     "text": [
      "Generated PD values for 33 business loans.\n",
      "\n",
      "Combined PD values for personal and business loans.\n",
      "\n"
     ]
    }
   ],
   "source": [
    "## Assign PD Values\n",
    "# Adjust PD for personal loans\n",
    "n_personal_loans = np.sum(loan_types == 0)\n",
    "n_business_loans = n_assets - n_personal_loans\n",
    "\n",
    "# Generate random PD for business loans\n",
    "business_PD = np.random.uniform(0.0001, 0.30, n_business_loans)\n",
    "print(f\"Generated PD values for {n_business_loans} business loans.\\n\")\n",
    "\n",
    "# Combine PD values\n",
    "PD = np.zeros(n_assets)\n",
    "PD[loan_types == 0] = np.random.choice(private_PD, n_personal_loans, replace=True)\n",
    "PD[loan_types == 1] = business_PD\n",
    "print(\"Combined PD values for personal and business loans.\\n\")"
   ]
  },
  {
   "cell_type": "code",
   "execution_count": 24,
   "metadata": {},
   "outputs": [
    {
     "name": "stdout",
     "output_type": "stream",
     "text": [
      "Assigned loan amounts and LGD values based on PD and loan type.\n",
      "\n"
     ]
    }
   ],
   "source": [
    "## Assign Loan Amounts and LGD\n",
    "# Initialize loan amounts and LGD\n",
    "loan_amounts = np.zeros(n_assets)\n",
    "LGD = np.zeros(n_assets)\n",
    "\n",
    "# Assign loan amounts and LGD based on PD and loan type\n",
    "for i in range(n_assets):\n",
    "    if loan_types[i] == 0:  # Personal loan\n",
    "        LGD[i] = 1\n",
    "        if PD[i] < 0.25:\n",
    "            loan_amounts[i] = 11500\n",
    "        else:\n",
    "            loan_amounts[i] = 0\n",
    "    else:  # Business loan\n",
    "        if PD[i] < 0.0001:\n",
    "            loan_amounts[i] = 600000\n",
    "            LGD[i] = 0.25\n",
    "        elif PD[i] < 0.0007:\n",
    "            loan_amounts[i] = 450000\n",
    "            LGD[i] = 0.25\n",
    "        elif PD[i] < 0.0019:\n",
    "            loan_amounts[i] = 300000\n",
    "            LGD[i] = 0.4\n",
    "        elif PD[i] < 0.0536:\n",
    "            loan_amounts[i] = 100000\n",
    "            LGD[i] = 0.4\n",
    "        elif PD[i] < 0.2523:\n",
    "            loan_amounts[i] = 25000\n",
    "            LGD[i] = 0.55\n",
    "        else:\n",
    "            loan_amounts[i] = 0\n",
    "            LGD[i] = 0.55\n",
    "print(\"Assigned loan amounts and LGD values based on PD and loan type.\\n\")"
   ]
  },
  {
   "cell_type": "code",
   "execution_count": 25,
   "metadata": {},
   "outputs": [
    {
     "name": "stdout",
     "output_type": "stream",
     "text": [
      "Loss simulation finished.\n",
      "\n"
     ]
    }
   ],
   "source": [
    "## Loss Simulation\n",
    "# Losses\n",
    "losses = np.zeros(n_simulations)\n",
    "\n",
    "# Loss simulation\n",
    "for i in range(n_simulations):\n",
    "    correlated_randoms = np.dot(rho, np.random.normal(size=n_assets))\n",
    "    adjusted_PD = np.percentile(correlated_randoms, PD * 100)\n",
    "    default_events = correlated_randoms < adjusted_PD\n",
    "    loss = np.sum(default_events * LGD * loan_amounts)\n",
    "    losses[i] = loss\n",
    "\n",
    "print(\"Loss simulation finished.\\n\")"
   ]
  },
  {
   "cell_type": "code",
   "execution_count": 26,
   "metadata": {},
   "outputs": [
    {
     "data": {
      "image/png": "[encoded data removed]",
      "text/plain": [
       "<Figure size 640x480 with 1 Axes>"
      ]
     },
     "metadata": {},
     "output_type": "display_data"
    },
    {
     "name": "stdout",
     "output_type": "stream",
     "text": [
      "Expected Loss (EL): 104297.25€\n",
      "\n",
      "Unexpected Loss (UL): 27710.79€\n",
      "\n",
      "Value at Risk (VaR) 99%: 182320.00€\n",
      "\n",
      "Value at Risk (VaR) 95%: 151500.00€\n",
      "\n"
     ]
    }
   ],
   "source": [
    "## Plot and Results\n",
    "# Plot\n",
    "plt.hist(losses, bins=50, density=True, alpha=0.75, color='blue')\n",
    "plt.title('Portfolio Loss Distribution')\n",
    "plt.xlabel('Loss')\n",
    "plt.ylabel('Frequency')\n",
    "plt.show()\n",
    "\n",
    "# Expected Loss (EL)\n",
    "EL = np.mean(losses)\n",
    "print(f\"Expected Loss (EL): {EL:.2f}€\\n\")\n",
    "\n",
    "# Unexpected Loss (UL)\n",
    "UL = np.std(losses)\n",
    "print(f\"Unexpected Loss (UL): {UL:.2f}€\\n\")\n",
    "\n",
    "# Value at Risk (VaR) 99%\n",
    "VaR_99 = np.percentile(losses, 99)\n",
    "print(f\"Value at Risk (VaR) 99%: {VaR_99:.2f}€\\n\")\n",
    "\n",
    "# Value at Risk (VaR) 95%\n",
    "VaR_95 = np.percentile(losses, 95)\n",
    "print(f\"Value at Risk (VaR) 95%: {VaR_95:.2f}€\\n\")"
   ]
  }
 ],
 "metadata": {
  "kernelspec": {
   "display_name": "Python 3",
   "language": "python",
   "name": "python3"
  },
  "language_info": {
   "codemirror_mode": {
    "name": "ipython",
    "version": 3
   },
   "file_extension": ".py",
   "mimetype": "text/x-python",
   "name": "python",
   "nbconvert_exporter": "python",
   "pygments_lexer": "ipython3",
   "version": "3.12.3"
  }
 },
 "nbformat": 4,
 "nbformat_minor": 2
}
